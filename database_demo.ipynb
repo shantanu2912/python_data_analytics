{
 "cells": [
  {
   "cell_type": "code",
   "execution_count": 1,
   "metadata": {},
   "outputs": [],
   "source": [
    "from database import User, Message\n",
    "from database import get_db, save_to_db"
   ]
  },
  {
   "cell_type": "markdown",
   "metadata": {},
   "source": [
    "adding some data to users and message"
   ]
  },
  {
   "cell_type": "code",
   "execution_count": 2,
   "metadata": {},
   "outputs": [
    {
     "name": "stdout",
     "output_type": "stream",
     "text": [
      "<database.User object at 0x000002515AE52C50> <database.User object at 0x000002515AE61D10> <database.User object at 0x000002515ADEB410> <database.User object at 0x000002515AE57610>\n"
     ]
    }
   ],
   "source": [
    "u1 = User(name=\"alex\", email=\"alex@gmail.com\", password=\"123\")\n",
    "u2 = User(name=\"ali\", email=\"ali@gmail.com\", password=\"1234\")\n",
    "u3 = User(name=\"alankar\", email=\"alankar@gmail.com\", password=\"12345\")\n",
    "u4 = User(name=\"arti\", email=\"arti@gmail.com\", password=\"2345\")\n",
    "print(u1, u2, u3, u4)"
   ]
  },
  {
   "cell_type": "code",
   "execution_count": 3,
   "metadata": {},
   "outputs": [],
   "source": [
    "save_to_db(u1)\n",
    "save_to_db(u2)\n",
    "save_to_db(u3)\n",
    "save_to_db(u4)"
   ]
  },
  {
   "cell_type": "code",
   "execution_count": 4,
   "metadata": {},
   "outputs": [],
   "source": [
    "m1 = Message(user_id=\"1\", message=\"hello\")\n",
    "m2 = Message(user_id=\"2\", message=\"heyy\")\n",
    "m3 = Message(user_id=\"8\", message=\"Good Morning\")\n",
    "m4 = Message(user_id=\"9\", message=\"how are you?\")\n",
    "m5 = Message(user_id=\"6\", message=\"get well soon\")"
   ]
  },
  {
   "cell_type": "code",
   "execution_count": 7,
   "metadata": {},
   "outputs": [],
   "source": [
    "save_to_db(m1)\n",
    "save_to_db(m2)\n",
    "save_to_db(m3)\n",
    "save_to_db(m4)\n",
    "save_to_db(m5)"
   ]
  },
  {
   "cell_type": "markdown",
   "metadata": {},
   "source": [
    "retrieving data from users and meassage"
   ]
  },
  {
   "cell_type": "code",
   "execution_count": 18,
   "metadata": {},
   "outputs": [
    {
     "name": "stdout",
     "output_type": "stream",
     "text": [
      "2\n",
      "ali\n",
      "ali@gmail.com\n",
      "1234\n",
      "2024-04-04 13:01:13.246372\n"
     ]
    },
    {
     "name": "stderr",
     "output_type": "stream",
     "text": [
      "C:\\Users\\shantanu sharma\\AppData\\Local\\Temp\\ipykernel_2316\\1755201300.py:4: LegacyAPIWarning: The Query.get() method is considered legacy as of the 1.x series of SQLAlchemy and becomes a legacy construct in 2.0. The method is now available as Session.get() (deprecated since: 2.0) (Background on SQLAlchemy 2.0 at: https://sqlalche.me/e/b8d9)\n",
      "  user = db.query(User).get(uid)\n"
     ]
    }
   ],
   "source": [
    "db = get_db() # open database\n",
    "# get user by id \n",
    "uid = 2\n",
    "user = db.query(User).get(uid)\n",
    "print(user.id)\n",
    "print(user.name)\n",
    "print(user.email)\n",
    "print(user.password)\n",
    "print(user.created_at)\n",
    "db.close() # close database\n"
   ]
  },
  {
   "cell_type": "code",
   "execution_count": 24,
   "metadata": {},
   "outputs": [
    {
     "name": "stdout",
     "output_type": "stream",
     "text": [
      "1 alex alex@gmail.com\n",
      "2 ali ali@gmail.com\n",
      "4 arti arti@gmail.com\n"
     ]
    }
   ],
   "source": [
    "# select * from a table\n",
    "db = get_db()\n",
    "users = db.query(User).all()\n",
    "for user in users:\n",
    "    print(user.id, user.name, user.email)\n",
    "db.close()"
   ]
  },
  {
   "cell_type": "code",
   "execution_count": 23,
   "metadata": {},
   "outputs": [
    {
     "name": "stderr",
     "output_type": "stream",
     "text": [
      "C:\\Users\\shantanu sharma\\AppData\\Local\\Temp\\ipykernel_2316\\2980030854.py:4: LegacyAPIWarning: The Query.get() method is considered legacy as of the 1.x series of SQLAlchemy and becomes a legacy construct in 2.0. The method is now available as Session.get() (deprecated since: 2.0) (Background on SQLAlchemy 2.0 at: https://sqlalche.me/e/b8d9)\n",
      "  user = db.query(User).get(uid)\n"
     ]
    }
   ],
   "source": [
    "# delete user by id\n",
    "db = get_db()\n",
    "uid = 8\n",
    "user = db.query(User).get(uid)\n",
    "if user:\n",
    "    db.delete(user)\n",
    "    db.commit()\n",
    "db.close()"
   ]
  },
  {
   "cell_type": "code",
   "execution_count": null,
   "metadata": {},
   "outputs": [],
   "source": []
  }
 ],
 "metadata": {
  "kernelspec": {
   "display_name": "base",
   "language": "python",
   "name": "python3"
  },
  "language_info": {
   "codemirror_mode": {
    "name": "ipython",
    "version": 3
   },
   "file_extension": ".py",
   "mimetype": "text/x-python",
   "name": "python",
   "nbconvert_exporter": "python",
   "pygments_lexer": "ipython3",
   "version": "3.11.5"
  }
 },
 "nbformat": 4,
 "nbformat_minor": 2
}
