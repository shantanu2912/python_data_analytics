{
 "cells": [
  {
   "cell_type": "code",
   "execution_count": 2,
   "metadata": {},
   "outputs": [],
   "source": [
    "c = 2030"
   ]
  },
  {
   "cell_type": "markdown",
   "metadata": {},
   "source": []
  },
  {
   "cell_type": "code",
   "execution_count": 2,
   "metadata": {},
   "outputs": [
    {
     "name": "stdout",
     "output_type": "stream",
     "text": [
      "39497.82904\n"
     ]
    }
   ],
   "source": [
    "p = 370802 \n",
    "r= 2.663 \n",
    "t=4\n",
    "si = p*r*t/100\n",
    "print(si)"
   ]
  },
  {
   "cell_type": "code",
   "execution_count": 1,
   "metadata": {},
   "outputs": [],
   "source": [
    "a=2302\n",
    "b=2332.2324\n",
    "c=\"dagfjhgjsd\"\n",
    "d=True\n",
    "e=None"
   ]
  },
  {
   "cell_type": "code",
   "execution_count": 5,
   "metadata": {},
   "outputs": [],
   "source": [
    "bugs = [\"xss\",'ssrf',\"misconfig\"] #this is list\n",
    "tups = (232.23,32,\"hell\") #this is tuple \n",
    "hackers = {\"black\": \"unethical\",\"white\": \"ethical\"} #this is dictionary\n",
    "attacks = {'ransomware', 'phishing', 'clickjacking'} #set"
   ]
  },
  {
   "cell_type": "code",
   "execution_count": 18,
   "metadata": {},
   "outputs": [
    {
     "data": {
      "text/plain": [
       "139242.0"
      ]
     },
     "execution_count": 18,
     "metadata": {},
     "output_type": "execute_result"
    }
   ],
   "source": [
    "\"xss\" in bugs or \"csrf\" in bugs\n",
    "p//r"
   ]
  },
  {
   "cell_type": "markdown",
   "metadata": {},
   "source": [
    "input and output"
   ]
  },
  {
   "cell_type": "code",
   "execution_count": 29,
   "metadata": {},
   "outputs": [],
   "source": [
    "name = input(\"Enter name\")\n",
    "iq = int(input(\"Enter your iq\"))"
   ]
  },
  {
   "cell_type": "markdown",
   "metadata": {},
   "source": [
    "float input"
   ]
  },
  {
   "cell_type": "code",
   "execution_count": 45,
   "metadata": {},
   "outputs": [],
   "source": [
    "radius = float(input(\"enter circle radius\"))\n",
    "pi = 22/7\n",
    "area = pi * radius ** 2"
   ]
  },
  {
   "cell_type": "code",
   "execution_count": 56,
   "metadata": {},
   "outputs": [
    {
     "name": "stdout",
     "output_type": "stream",
     "text": [
      "radius of circle => 23.0,\n",
      "area of circle => 1662.6\n",
      "Integer 2302\n",
      "Float 2332.2324\n",
      "String dagfjhgjsd\n",
      "Boolean True\n",
      "Empty None\n"
     ]
    }
   ],
   "source": [
    "print(f\"radius of circle => {radius},\\narea of circle => {area:.1f}\")\n",
    "print(f\"Integer {a}\")\n",
    "print(f\"Float {b}\")\n",
    "print(f\"String {c}\")\n",
    "print(f\"Boolean {d}\")\n",
    "print(f\"Empty {e}\")"
   ]
  },
  {
   "cell_type": "code",
   "execution_count": null,
   "metadata": {},
   "outputs": [],
   "source": []
  }
 ],
 "metadata": {
  "kernelspec": {
   "display_name": "base",
   "language": "python",
   "name": "python3"
  },
  "language_info": {
   "codemirror_mode": {
    "name": "ipython",
    "version": 3
   },
   "file_extension": ".py",
   "mimetype": "text/x-python",
   "name": "python",
   "nbconvert_exporter": "python",
   "pygments_lexer": "ipython3",
   "version": "3.11.5"
  }
 },
 "nbformat": 4,
 "nbformat_minor": 2
}
