{
 "cells": [
  {
   "cell_type": "code",
   "execution_count": 1,
   "metadata": {},
   "outputs": [
    {
     "name": "stdout",
     "output_type": "stream",
     "text": [
      "Hello\n"
     ]
    }
   ],
   "source": [
    "my_string = 'Hello'\n",
    "print(my_string)"
   ]
  },
  {
   "cell_type": "code",
   "execution_count": 2,
   "metadata": {},
   "outputs": [
    {
     "name": "stdout",
     "output_type": "stream",
     "text": [
      "Hello\n"
     ]
    }
   ],
   "source": [
    "my_string = \"Hello\"\n",
    "print(my_string)"
   ]
  },
  {
   "cell_type": "code",
   "execution_count": 3,
   "metadata": {},
   "outputs": [
    {
     "name": "stdout",
     "output_type": "stream",
     "text": [
      "Hello\n"
     ]
    }
   ],
   "source": [
    "my_string = '''Hello'''\n",
    "print(my_string)"
   ]
  },
  {
   "cell_type": "code",
   "execution_count": 4,
   "metadata": {},
   "outputs": [
    {
     "name": "stdout",
     "output_type": "stream",
     "text": [
      "Hello, welcome to \n",
      "the world of python\n"
     ]
    }
   ],
   "source": [
    "my_string = \"\"\"Hello, welcome to \n",
    "the world of python\"\"\"\n",
    "print(my_string)"
   ]
  },
  {
   "cell_type": "code",
   "execution_count": 24,
   "metadata": {},
   "outputs": [
    {
     "name": "stdout",
     "output_type": "stream",
     "text": [
      "str =  digipodium\n",
      "str[-3] =  i\n",
      "str[4] =  p\n",
      "str[4] =  p\n",
      "str[3] =  i\n"
     ]
    }
   ],
   "source": [
    "str = \"digipodium\"\n",
    "print('str = ',str)\n",
    "print(\"str[-3] = \",str[-3])\n",
    "print(\"str[4] = \",str[1+3])\n",
    "print(\"str[4] = \",str[2*2])\n",
    "print(\"str[3] = \",str[4-1])"
   ]
  },
  {
   "cell_type": "code",
   "execution_count": 21,
   "metadata": {},
   "outputs": [
    {
     "name": "stdout",
     "output_type": "stream",
     "text": [
      "pod\n"
     ]
    }
   ],
   "source": [
    "s = \"digipodium\"\n",
    "slice1 = s[4:7]\n",
    "print(slice1)"
   ]
  },
  {
   "cell_type": "code",
   "execution_count": 33,
   "metadata": {},
   "outputs": [
    {
     "name": "stdout",
     "output_type": "stream",
     "text": [
      "Deenanath\n",
      "Vijay\n",
      "Chauhan\n"
     ]
    }
   ],
   "source": [
    "name = \"Vijay Deenanath Chauhan\"\n",
    "f_name = print(name[6:15])\n",
    "f_name = print(name[0:5])\n",
    "l_name = print(name[-7:])"
   ]
  },
  {
   "cell_type": "code",
   "execution_count": 35,
   "metadata": {},
   "outputs": [
    {
     "name": "stdout",
     "output_type": "stream",
     "text": [
      "The quick \n",
      "y dog\n"
     ]
    }
   ],
   "source": [
    "sentence = 'The quick brown fox jumps over the lazy dog'\n",
    "print(sentence[:10])\n",
    "print(sentence[-5:])"
   ]
  },
  {
   "cell_type": "code",
   "execution_count": 38,
   "metadata": {},
   "outputs": [
    {
     "name": "stdout",
     "output_type": "stream",
     "text": [
      "12300\n"
     ]
    }
   ],
   "source": [
    "amt = \"$12300\"\n",
    "print(int(amt[1:]))"
   ]
  },
  {
   "cell_type": "code",
   "execution_count": 2,
   "metadata": {},
   "outputs": [
    {
     "data": {
      "text/plain": [
       "'@pank'"
      ]
     },
     "execution_count": 2,
     "metadata": {},
     "output_type": "execute_result"
    }
   ],
   "source": [
    "uname = \"@pankaj😎😎😎💀\"\n",
    "uname[:5]"
   ]
  },
  {
   "cell_type": "code",
   "execution_count": 7,
   "metadata": {},
   "outputs": [
    {
     "name": "stdout",
     "output_type": "stream",
     "text": [
      "Original: Data Science\n",
      "upper: DATA SCIENCE\n",
      "lower: data science\n",
      "capitalize: Data science\n"
     ]
    }
   ],
   "source": [
    "#methods \n",
    "word = 'Data Science'\n",
    "word2 = word.upper()\n",
    "word3 = word.lower()\n",
    "word4 = word.capitalize()\n",
    "print(f\"Original: {word}\")\n",
    "print(f\"upper: {word2}\")\n",
    "print(f\"lower: {word3}\")\n",
    "print(f\"capitalize: {word4}\")"
   ]
  },
  {
   "cell_type": "code",
   "execution_count": 11,
   "metadata": {},
   "outputs": [
    {
     "name": "stdout",
     "output_type": "stream",
     "text": [
      "13\n",
      "5\n",
      "20\n"
     ]
    }
   ],
   "source": [
    "#search and replace\n",
    "sentence = \"data science is the science of data\"\n",
    "print(sentence.find('is'))\n",
    "print(sentence.find('science'))\n",
    "print(sentence.find('science', 6))"
   ]
  },
  {
   "cell_type": "code",
   "execution_count": 16,
   "metadata": {},
   "outputs": [
    {
     "data": {
      "text/plain": [
       "12"
      ]
     },
     "execution_count": 16,
     "metadata": {},
     "output_type": "execute_result"
    }
   ],
   "source": [
    "sentence = \"The quick brown fox jumps over the lazy dog\"\n",
    "sentence.find('red')\n",
    "sentence.find('own')"
   ]
  },
  {
   "cell_type": "code",
   "execution_count": 31,
   "metadata": {},
   "outputs": [
    {
     "name": "stdout",
     "output_type": "stream",
     "text": [
      "The quick green fox jumps over the lazy dog\n",
      "The quick black rat jumps over the lazy dog\n",
      "The quick green goat kicks over the lazy goat\n"
     ]
    }
   ],
   "source": [
    "#replace\n",
    "print(sentence.replace('brown','green'))\n",
    "print(sentence.replace('brown','black').replace('fox','rat'))\n",
    "print(sentence.replace('fox','dog').replace('brown','green').replace('dog','goat').replace('jumps','kicks'))"
   ]
  },
  {
   "cell_type": "code",
   "execution_count": 34,
   "metadata": {},
   "outputs": [
    {
     "name": "stdout",
     "output_type": "stream",
     "text": [
      "2\n",
      "0\n",
      "5\n"
     ]
    }
   ],
   "source": [
    "story = 'once there was king named Arthur, who was a great king'\n",
    "print(story.count('king'))\n",
    "print(story.count('queen'))\n",
    "print(story.count('a'))"
   ]
  },
  {
   "cell_type": "code",
   "execution_count": 37,
   "metadata": {},
   "outputs": [
    {
     "name": "stdout",
     "output_type": "stream",
     "text": [
      "['once', 'there', 'was', 'king', 'named', 'Arthur,', 'who', 'was', 'a', 'great', 'king']\n",
      "['once ', ' was king named Arthur, who was a great king']\n",
      "['once there was king named Arthur', ' who was a great king']\n"
     ]
    }
   ],
   "source": [
    "print(story.split())\n",
    "print(story.split('there'))\n",
    "print(story.split(','))"
   ]
  },
  {
   "cell_type": "code",
   "execution_count": 41,
   "metadata": {},
   "outputs": [
    {
     "name": "stdout",
     "output_type": "stream",
     "text": [
      "['Johny Johny, Yes Papa', 'Eating Sugar? No Papa', 'Telling Lies? No Papa', 'Open your mouth Ha! Ha! Ha!']\n",
      "['Johny Johny, Yes Papa', 'Eating Sugar? No Papa', 'Telling Lies? No Papa', 'Open your mouth Ha! Ha! Ha!']\n",
      "['Johny Johny, Yes ', '\\nEating Sugar? No ', '\\nTelling Lies? No ', '\\nOpen your mouth Ha! Ha! Ha!']\n"
     ]
    }
   ],
   "source": [
    "poem = '''Johny Johny, Yes Papa\n",
    "Eating Sugar? No Papa\n",
    "Telling Lies? No Papa\n",
    "Open your mouth Ha! Ha! Ha!'''\n",
    "print(poem.split('\\n'))\n",
    "print(poem.splitlines())\n",
    "print(poem.split('Papa'))"
   ]
  },
  {
   "cell_type": "code",
   "execution_count": 47,
   "metadata": {},
   "outputs": [
    {
     "name": "stdout",
     "output_type": "stream",
     "text": [
      "C:/Users/Admin/Desktop/Python/Python.txt\n",
      "C:.Users.Admin.Desktop.Python.Python.txt\n"
     ]
    }
   ],
   "source": [
    "pathList = ['C:','Users','Admin','Desktop','Python','Python.txt']\n",
    "print(\"/\".join(pathList))\n",
    "print(\".\".join(pathList))"
   ]
  },
  {
   "cell_type": "code",
   "execution_count": 59,
   "metadata": {},
   "outputs": [
    {
     "name": "stdout",
     "output_type": "stream",
     "text": [
      "Total items = 256\n"
     ]
    }
   ],
   "source": [
    "import os\n",
    "content = os.listdir('C:/users/shantanu sharma/Downloads/')\n",
    "print(f'Total items = {len(content)}')"
   ]
  },
  {
   "cell_type": "code",
   "execution_count": 63,
   "metadata": {},
   "outputs": [
    {
     "name": "stdout",
     "output_type": "stream",
     "text": [
      "Book2.csv\n",
      "N-LIST National Library and Information Services Infrastructure for scholarly content.csv\n",
      "----------------------------------------\n",
      "Total files = 2\n"
     ]
    }
   ],
   "source": [
    "total = 0\n",
    "for item in content:\n",
    "    if item.endswith('.csv'):\n",
    "        print(item)\n",
    "        total += 1\n",
    "print('----'*10)\n",
    "print(f'Total files = {total}')"
   ]
  },
  {
   "cell_type": "code",
   "execution_count": 70,
   "metadata": {},
   "outputs": [
    {
     "name": "stdout",
     "output_type": "stream",
     "text": [
      "Technex Publicity Brochure.pdf\n",
      "Telegram Desktop\n",
      "The.Nun-2.2023.1080p.WEB-DL.Hindi.Line-English.x264-1XBET.Vegamovies.to.mkv\n",
      "tiny_heart_attack.jpg\n",
      "torbrowser-install-win64-12.0.4_ALL.exe\n",
      "----------------------------------------\n",
      "Total files = 5\n"
     ]
    }
   ],
   "source": [
    "total = 0\n",
    "for item in content:\n",
    "    if item.lower().startswith('t'):\n",
    "        print(item)\n",
    "        total += 1\n",
    "print('----'*10)\n",
    "print(f'Total files = {total}')\n"
   ]
  },
  {
   "cell_type": "code",
   "execution_count": null,
   "metadata": {},
   "outputs": [],
   "source": []
  }
 ],
 "metadata": {
  "kernelspec": {
   "display_name": "base",
   "language": "python",
   "name": "python3"
  },
  "language_info": {
   "codemirror_mode": {
    "name": "ipython",
    "version": 3
   },
   "file_extension": ".py",
   "mimetype": "text/x-python",
   "name": "python",
   "nbconvert_exporter": "python",
   "pygments_lexer": "ipython3",
   "version": "3.11.5"
  }
 },
 "nbformat": 4,
 "nbformat_minor": 2
}
