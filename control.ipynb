{
 "cells": [
  {
   "cell_type": "code",
   "execution_count": 20,
   "metadata": {},
   "outputs": [],
   "source": [
    "a = int(input('Mention a number : '))\n",
    "if a >= -1:\n",
    "    print(\"greater than -1\")\n",
    "elif a % 2 != 0:\n",
    "    print(f\"{a} is odd\")\n",
    "\n"
   ]
  },
  {
   "cell_type": "code",
   "execution_count": 14,
   "metadata": {},
   "outputs": [
    {
     "name": "stdout",
     "output_type": "stream",
     "text": [
      "reasonably priced\n"
     ]
    }
   ],
   "source": [
    "price = 2300\n",
    "if price > 2300:\n",
    "    print(\"expensive\")\n",
    "else:\n",
    "    print(\"reasonably priced\")"
   ]
  },
  {
   "cell_type": "code",
   "execution_count": 33,
   "metadata": {},
   "outputs": [
    {
     "name": "stdout",
     "output_type": "stream",
     "text": [
      "100/600 = 16.7%\n",
      "Grade: F\n"
     ]
    }
   ],
   "source": [
    "total = 600\n",
    "marks = int(input(\"enter marks\"))\n",
    "percent = marks/total * 100\n",
    "print(f\"{marks}/{total} = {percent:.1f}%\")\n",
    "if percent > 90:\n",
    "    grade = 'A'\n",
    "elif percent >= 75:\n",
    "    grade = 'B'\n",
    "elif percent >= 40:\n",
    "    grade = 'D'\n",
    "elif percent >= 60:\n",
    "    grade = 'C'\n",
    "else:\n",
    "    grade = 'F'\n",
    "print(f\"Grade: {grade}\")"
   ]
  },
  {
   "cell_type": "code",
   "execution_count": 40,
   "metadata": {},
   "outputs": [
    {
     "name": "stdout",
     "output_type": "stream",
     "text": [
      "what is the capital of UP?\n",
      "Incorrect\n"
     ]
    }
   ],
   "source": [
    "print(\"what is the capital of UP?\")\n",
    "ans = input(\"Enter answer here : \")\n",
    "match ans:\n",
    "    case \"Lucknow\" | 'lucknow':\n",
    "        print(\"correct\")\n",
    "    case _:\n",
    "        print(\"Incorrect\")"
   ]
  },
  {
   "cell_type": "markdown",
   "metadata": {},
   "source": [
    "loops\n",
    "- iteration based for\n",
    "- condition based while"
   ]
  },
  {
   "cell_type": "code",
   "execution_count": 2,
   "metadata": {},
   "outputs": [],
   "source": [
    "movies = [\"The Godfather (1972)\",\n",
    "\"Inception (2010)\",\n",
    "\"Schindler's List (1993)\",\n",
    "\"Pulp Fiction (1994)\",\n",
    "\"The Shawshank Redemption (1994)\",\n",
    "\"The Dark Knight (2008)\",\n",
    "\"Forrest Gump (1994)\",\n",
    "\"The Matrix (1999)\",\n",
    "\"Casablanca (1942)\",\n",
    "\"Titanic (1997)\",\n",
    "\"The Silence of the Lambs (1991)\",\n",
    "\"The Lord of the Rings: The Fellowship of the Ring (2001)\",\n",
    "\"Fight Club (1999)\",\n",
    "\"Jurassic Park (1993)\",\n",
    "\"The Breakfast Club (1985)\",\n",
    "\"La La Land (2016)\",\n",
    "\"The Great Gatsby (2013)\"]"
   ]
  },
  {
   "cell_type": "code",
   "execution_count": 3,
   "metadata": {},
   "outputs": [
    {
     "name": "stdout",
     "output_type": "stream",
     "text": [
      "The Godfather (1972)\n",
      "Inception (2010)\n",
      "Schindler's List (1993)\n",
      "Pulp Fiction (1994)\n",
      "The Shawshank Redemption (1994)\n",
      "The Dark Knight (2008)\n",
      "Forrest Gump (1994)\n",
      "The Matrix (1999)\n",
      "Casablanca (1942)\n",
      "Titanic (1997)\n",
      "The Silence of the Lambs (1991)\n",
      "The Lord of the Rings: The Fellowship of the Ring (2001)\n",
      "Fight Club (1999)\n",
      "Jurassic Park (1993)\n",
      "The Breakfast Club (1985)\n",
      "La La Land (2016)\n",
      "The Great Gatsby (2013)\n"
     ]
    }
   ],
   "source": [
    "for i in movies:\n",
    "    print(i)"
   ]
  },
  {
   "cell_type": "code",
   "execution_count": 4,
   "metadata": {},
   "outputs": [
    {
     "name": "stdout",
     "output_type": "stream",
     "text": [
      "12\n",
      "45\n",
      "56\n",
      "122\n"
     ]
    }
   ],
   "source": [
    "for i in [12,45,56,122]:\n",
    "    print(i)"
   ]
  },
  {
   "cell_type": "code",
   "execution_count": 15,
   "metadata": {},
   "outputs": [
    {
     "name": "stdout",
     "output_type": "stream",
     "text": [
      "10\n",
      "9\n",
      "8\n",
      "7\n",
      "6\n",
      "5\n",
      "4\n",
      "3\n",
      "2\n",
      "1\n"
     ]
    }
   ],
   "source": [
    "for i in range(10,0,-1):\n",
    "    print(i)"
   ]
  },
  {
   "cell_type": "code",
   "execution_count": 19,
   "metadata": {},
   "outputs": [
    {
     "name": "stdout",
     "output_type": "stream",
     "text": [
      "The Godfather (1972)\n",
      "The Shawshank Redemption (1994)\n",
      "The Dark Knight (2008)\n",
      "The Matrix (1999)\n",
      "The Silence of the Lambs (1991)\n",
      "The Lord of the Rings: The Fellowship of the Ring (2001)\n",
      "The Breakfast Club (1985)\n",
      "The Great Gatsby (2013)\n"
     ]
    }
   ],
   "source": [
    "for name in movies:\n",
    "    if 'The' in name or 'the' in name:\n",
    "        print(name)"
   ]
  },
  {
   "cell_type": "code",
   "execution_count": 20,
   "metadata": {},
   "outputs": [
    {
     "name": "stdout",
     "output_type": "stream",
     "text": [
      "17\n"
     ]
    }
   ],
   "source": [
    "x = [3,2,5,1,6]\n",
    "total = 0\n",
    "for i in x:\n",
    "    total += i\n",
    "print(total)\n"
   ]
  },
  {
   "cell_type": "code",
   "execution_count": 21,
   "metadata": {},
   "outputs": [
    {
     "data": {
      "text/plain": [
       "17"
      ]
     },
     "execution_count": 21,
     "metadata": {},
     "output_type": "execute_result"
    }
   ],
   "source": [
    "sum(x) #same as running the loop"
   ]
  },
  {
   "cell_type": "code",
   "execution_count": 26,
   "metadata": {},
   "outputs": [
    {
     "name": "stdout",
     "output_type": "stream",
     "text": [
      "15511210043330985984000000\n"
     ]
    }
   ],
   "source": [
    "factorial = 1\n",
    "for i in range(25,0,-1):\n",
    "    factorial *= i\n",
    "print(factorial)\n"
   ]
  },
  {
   "cell_type": "code",
   "execution_count": 35,
   "metadata": {},
   "outputs": [
    {
     "name": "stdout",
     "output_type": "stream",
     "text": [
      "very good\n"
     ]
    }
   ],
   "source": [
    "while True:\n",
    "    x = input(\"Enter a number:\")\n",
    "    if x.isnumeric():\n",
    "        print(\"very good\")\n",
    "        break\n",
    "    else:\n",
    "        print('Invalid input')"
   ]
  },
  {
   "cell_type": "code",
   "execution_count": null,
   "metadata": {},
   "outputs": [],
   "source": []
  }
 ],
 "metadata": {
  "kernelspec": {
   "display_name": "base",
   "language": "python",
   "name": "python3"
  },
  "language_info": {
   "codemirror_mode": {
    "name": "ipython",
    "version": 3
   },
   "file_extension": ".py",
   "mimetype": "text/x-python",
   "name": "python",
   "nbconvert_exporter": "python",
   "pygments_lexer": "ipython3",
   "version": "3.11.5"
  }
 },
 "nbformat": 4,
 "nbformat_minor": 2
}
