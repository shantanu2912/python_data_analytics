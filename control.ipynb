{
 "cells": [
  {
   "cell_type": "code",
   "execution_count": 20,
   "metadata": {},
   "outputs": [],
   "source": [
    "a = int(input('Mention a number : '))\n",
    "if a >= -1:\n",
    "    print(\"greater than -1\")\n",
    "elif a % 2 != 0:\n",
    "    print(f\"{a} is odd\")\n",
    "\n"
   ]
  },
  {
   "cell_type": "code",
   "execution_count": 14,
   "metadata": {},
   "outputs": [
    {
     "name": "stdout",
     "output_type": "stream",
     "text": [
      "reasonably priced\n"
     ]
    }
   ],
   "source": [
    "price = 2300\n",
    "if price > 2300:\n",
    "    print(\"expensive\")\n",
    "else:\n",
    "    print(\"reasonably priced\")"
   ]
  },
  {
   "cell_type": "code",
   "execution_count": 33,
   "metadata": {},
   "outputs": [
    {
     "name": "stdout",
     "output_type": "stream",
     "text": [
      "100/600 = 16.7%\n",
      "Grade: F\n"
     ]
    }
   ],
   "source": [
    "total = 600\n",
    "marks = int(input(\"enter marks\"))\n",
    "percent = marks/total * 100\n",
    "print(f\"{marks}/{total} = {percent:.1f}%\")\n",
    "if percent > 90:\n",
    "    grade = 'A'\n",
    "elif percent >= 75:\n",
    "    grade = 'B'\n",
    "elif percent >= 40:\n",
    "    grade = 'D'\n",
    "elif percent >= 60:\n",
    "    grade = 'C'\n",
    "else:\n",
    "    grade = 'F'\n",
    "print(f\"Grade: {grade}\")"
   ]
  },
  {
   "cell_type": "code",
   "execution_count": 40,
   "metadata": {},
   "outputs": [
    {
     "name": "stdout",
     "output_type": "stream",
     "text": [
      "what is the capital of UP?\n",
      "Incorrect\n"
     ]
    }
   ],
   "source": [
    "print(\"what is the capital of UP?\")\n",
    "ans = input(\"Enter answer here : \")\n",
    "match ans:\n",
    "    case \"Lucknow\" | 'lucknow':\n",
    "        print(\"correct\")\n",
    "    case _:\n",
    "        print(\"Incorrect\")"
   ]
  },
  {
   "cell_type": "markdown",
   "metadata": {},
   "source": [
    "loops\n",
    "- iteration based for\n",
    "- condition based while"
   ]
  },
  {
   "cell_type": "code",
   "execution_count": null,
   "metadata": {},
   "outputs": [],
   "source": []
  }
 ],
 "metadata": {
  "kernelspec": {
   "display_name": "base",
   "language": "python",
   "name": "python3"
  },
  "language_info": {
   "codemirror_mode": {
    "name": "ipython",
    "version": 3
   },
   "file_extension": ".py",
   "mimetype": "text/x-python",
   "name": "python",
   "nbconvert_exporter": "python",
   "pygments_lexer": "ipython3",
   "version": "3.11.5"
  }
 },
 "nbformat": 4,
 "nbformat_minor": 2
}
