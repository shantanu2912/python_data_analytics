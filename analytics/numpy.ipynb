{
 "cells": [
  {
   "cell_type": "markdown",
   "metadata": {},
   "source": [
    "optional step"
   ]
  },
  {
   "cell_type": "code",
   "execution_count": 2,
   "metadata": {},
   "outputs": [
    {
     "name": "stdout",
     "output_type": "stream",
     "text": [
      "Requirement already satisfied: numpy in d:\\miniconda\\lib\\site-packages (from -r requirement.txt (line 1)) (1.26.4)\n",
      "Requirement already satisfied: pandas in c:\\users\\shantanu sharma\\appdata\\roaming\\python\\python311\\site-packages (from -r requirement.txt (line 2)) (2.2.1)\n",
      "Requirement already satisfied: matplotlib in c:\\users\\shantanu sharma\\appdata\\roaming\\python\\python311\\site-packages (from -r requirement.txt (line 3)) (3.8.3)\n",
      "Requirement already satisfied: seaborn in c:\\users\\shantanu sharma\\appdata\\roaming\\python\\python311\\site-packages (from -r requirement.txt (line 4)) (0.13.2)\n",
      "Collecting plotly (from -r requirement.txt (line 5))\n",
      "  Using cached plotly-5.19.0-py3-none-any.whl.metadata (7.0 kB)\n",
      "Requirement already satisfied: scipy in d:\\miniconda\\lib\\site-packages (from -r requirement.txt (line 6)) (1.12.0)\n",
      "Requirement already satisfied: statsmodels in c:\\users\\shantanu sharma\\appdata\\roaming\\python\\python311\\site-packages (from -r requirement.txt (line 7)) (0.14.1)\n",
      "Requirement already satisfied: nbformat in c:\\users\\shantanu sharma\\appdata\\roaming\\python\\python311\\site-packages (from -r requirement.txt (line 8)) (5.9.2)\n",
      "Requirement already satisfied: openpyxl in c:\\users\\shantanu sharma\\appdata\\roaming\\python\\python311\\site-packages (from -r requirement.txt (line 9)) (3.1.2)\n",
      "Requirement already satisfied: python-dateutil>=2.8.2 in d:\\miniconda\\lib\\site-packages (from pandas->-r requirement.txt (line 2)) (2.8.2)\n",
      "Requirement already satisfied: pytz>=2020.1 in d:\\miniconda\\lib\\site-packages (from pandas->-r requirement.txt (line 2)) (2024.1)\n",
      "Requirement already satisfied: tzdata>=2022.7 in d:\\miniconda\\lib\\site-packages (from pandas->-r requirement.txt (line 2)) (2024.1)\n",
      "Requirement already satisfied: contourpy>=1.0.1 in c:\\users\\shantanu sharma\\appdata\\roaming\\python\\python311\\site-packages (from matplotlib->-r requirement.txt (line 3)) (1.2.0)\n",
      "Requirement already satisfied: cycler>=0.10 in c:\\users\\shantanu sharma\\appdata\\roaming\\python\\python311\\site-packages (from matplotlib->-r requirement.txt (line 3)) (0.12.1)\n",
      "Requirement already satisfied: fonttools>=4.22.0 in d:\\miniconda\\lib\\site-packages (from matplotlib->-r requirement.txt (line 3)) (4.49.0)\n",
      "Requirement already satisfied: kiwisolver>=1.3.1 in d:\\miniconda\\lib\\site-packages (from matplotlib->-r requirement.txt (line 3)) (1.4.5)\n",
      "Requirement already satisfied: packaging>=20.0 in d:\\miniconda\\lib\\site-packages (from matplotlib->-r requirement.txt (line 3)) (23.1)\n",
      "Requirement already satisfied: pillow>=8 in d:\\miniconda\\lib\\site-packages (from matplotlib->-r requirement.txt (line 3)) (10.2.0)\n",
      "Requirement already satisfied: pyparsing>=2.3.1 in d:\\miniconda\\lib\\site-packages (from matplotlib->-r requirement.txt (line 3)) (3.1.2)\n",
      "Requirement already satisfied: tenacity>=6.2.0 in d:\\miniconda\\lib\\site-packages (from plotly->-r requirement.txt (line 5)) (8.2.3)\n",
      "Collecting patsy>=0.5.4 (from statsmodels->-r requirement.txt (line 7))\n",
      "  Using cached patsy-0.5.6-py2.py3-none-any.whl.metadata (3.5 kB)\n",
      "Requirement already satisfied: fastjsonschema in d:\\miniconda\\lib\\site-packages (from nbformat->-r requirement.txt (line 8)) (2.19.1)\n",
      "Requirement already satisfied: jsonschema>=2.6 in c:\\users\\shantanu sharma\\appdata\\roaming\\python\\python311\\site-packages (from nbformat->-r requirement.txt (line 8)) (4.21.1)\n",
      "Requirement already satisfied: jupyter-core in d:\\miniconda\\lib\\site-packages (from nbformat->-r requirement.txt (line 8)) (5.5.0)\n",
      "Requirement already satisfied: traitlets>=5.1 in d:\\miniconda\\lib\\site-packages (from nbformat->-r requirement.txt (line 8)) (5.7.1)\n",
      "Requirement already satisfied: et-xmlfile in c:\\users\\shantanu sharma\\appdata\\roaming\\python\\python311\\site-packages (from openpyxl->-r requirement.txt (line 9)) (1.1.0)\n",
      "Requirement already satisfied: attrs>=22.2.0 in c:\\users\\shantanu sharma\\appdata\\roaming\\python\\python311\\site-packages (from jsonschema>=2.6->nbformat->-r requirement.txt (line 8)) (23.2.0)\n",
      "Requirement already satisfied: jsonschema-specifications>=2023.03.6 in c:\\users\\shantanu sharma\\appdata\\roaming\\python\\python311\\site-packages (from jsonschema>=2.6->nbformat->-r requirement.txt (line 8)) (2023.12.1)\n",
      "Requirement already satisfied: referencing>=0.28.4 in c:\\users\\shantanu sharma\\appdata\\roaming\\python\\python311\\site-packages (from jsonschema>=2.6->nbformat->-r requirement.txt (line 8)) (0.33.0)\n",
      "Requirement already satisfied: rpds-py>=0.7.1 in d:\\miniconda\\lib\\site-packages (from jsonschema>=2.6->nbformat->-r requirement.txt (line 8)) (0.18.0)\n",
      "Requirement already satisfied: six in d:\\miniconda\\lib\\site-packages (from patsy>=0.5.4->statsmodels->-r requirement.txt (line 7)) (1.16.0)\n",
      "Requirement already satisfied: platformdirs>=2.5 in d:\\miniconda\\lib\\site-packages (from jupyter-core->nbformat->-r requirement.txt (line 8)) (3.10.0)\n",
      "Requirement already satisfied: pywin32>=300 in d:\\miniconda\\lib\\site-packages (from jupyter-core->nbformat->-r requirement.txt (line 8)) (305.1)\n",
      "Using cached plotly-5.19.0-py3-none-any.whl (15.7 MB)\n",
      "Using cached patsy-0.5.6-py2.py3-none-any.whl (233 kB)\n",
      "Installing collected packages: plotly, patsy\n",
      "Successfully installed patsy-0.5.6 plotly-5.19.0\n"
     ]
    }
   ],
   "source": [
    "!pip install -r requirement.txt"
   ]
  },
  {
   "cell_type": "markdown",
   "metadata": {},
   "source": [
    "loading the libraries"
   ]
  },
  {
   "cell_type": "code",
   "execution_count": 4,
   "metadata": {},
   "outputs": [],
   "source": []
  },
  {
   "cell_type": "code",
   "execution_count": 5,
   "metadata": {},
   "outputs": [],
   "source": []
  },
  {
   "cell_type": "code",
   "execution_count": null,
   "metadata": {},
   "outputs": [],
   "source": []
  }
 ],
 "metadata": {
  "kernelspec": {
   "display_name": "base",
   "language": "python",
   "name": "python3"
  },
  "language_info": {
   "codemirror_mode": {
    "name": "ipython",
    "version": 3
   },
   "file_extension": ".py",
   "mimetype": "text/x-python",
   "name": "python",
   "nbconvert_exporter": "python",
   "pygments_lexer": "ipython3",
   "version": "3.11.5"
  }
 },
 "nbformat": 4,
 "nbformat_minor": 2
}
